{
 "cells": [
  {
   "cell_type": "code",
   "execution_count": 1,
   "metadata": {},
   "outputs": [],
   "source": [
    "import cobra\n",
    "import numpy as np\n",
    "from cobra import Model, Reaction, Metabolite\n",
    "import matplotlib.pyplot as plt\n",
    "import pandas as pd\n",
    "from cobra.flux_analysis import flux_variability_analysis"
   ]
  },
  {
   "cell_type": "markdown",
   "metadata": {},
   "source": [
    "# Function to set glycerol minimal medium"
   ]
  },
  {
   "cell_type": "code",
   "execution_count": 4,
   "metadata": {},
   "outputs": [],
   "source": [
    "def set_glycerol_minimal_medium(model):\n",
    "    \n",
    "    # set lower bound of all exchange reactions to zero\n",
    "    for rxn in model.exchanges:\n",
    "        rxn.lower_bound = 0\n",
    "\n",
    "    # turn on specific fluxes\n",
    "    minimal__media = {\n",
    "            'EX_glyc_e_': -10,       # glycerol\n",
    "            'EX_nh4_e_': -1000,      # ammonium\n",
    "            'EX_pi_e_':  -1000,      # phosphate\n",
    "            'EX_so4_e_': -1000,      # sulfate\n",
    "            'EX_fe3_e_': -1000,      # fe3+\n",
    "            'EX_mn2_e_': -1000,      # mn2+\n",
    "            'EX_zn2_e_': -1000,      # zn2+\n",
    "            'EX_cu2_e_': -1000,      # cu2+\n",
    "            'EX_ca2_e_': -1000,      # ca2+\n",
    "            'EX_cl_e_' : -1000,      # cl-\n",
    "            'EX_cobalt2_e_': -1000,  # cobalt\n",
    "            'EX_k_e_':   -1000,      # k\n",
    "            'EX_mobd_e_'   : -1000,  # mo6+\n",
    "            'EX_na1_e_'    : -1000,     # na+\n",
    "            'EX_ni2_e_'    : -1000,     # ni2+\n",
    "            'EX_mg2_e_': -1000,      # mg2+\n",
    "            'EX_o2_e_':  -1000\n",
    "        }\n",
    "\n",
    "    for r in minimal__media.keys():\n",
    "        try:\n",
    "            rxn = model.reactions.get_by_id(r)\n",
    "            rxn.lower_bound = minimal__media[r]\n",
    "            rxn.upper_bound = 1000\n",
    "        except:\n",
    "            print(\"The reaction {} does not exist in model.\".format(str(r)))\n",
    "            continue\n",
    "            \n",
    "    return model"
   ]
  },
  {
   "cell_type": "markdown",
   "metadata": {},
   "source": [
    "# Tune flux through reaction AKGDH and simulate overflow"
   ]
  },
  {
   "cell_type": "markdown",
   "metadata": {},
   "source": [
    "## carbon is limiting"
   ]
  },
  {
   "cell_type": "code",
   "execution_count": 26,
   "metadata": {},
   "outputs": [
    {
     "name": "stdout",
     "output_type": "stream",
     "text": [
      "0\n"
     ]
    }
   ],
   "source": [
    "model = cobra.io.load_json_model('../add_RL_production/SI3_iJN1411final_flux_w_rhamnolipid_biosynthesis.json')\n",
    "model.solver = 'cplex'\n",
    "model = set_glycerol_minimal_medium(model)\n",
    "\n",
    "exchange_flux_max = pd.DataFrame()\n",
    "exchange_flux_min = pd.DataFrame()\n",
    "max_growth_flux = []\n",
    "AKGDH_flux =  np.arange(0, 1, 1)\n",
    "for f in AKGDH_flux:\n",
    "    print(f)\n",
    "    model.reactions.AKGDH.lb = f\n",
    "    model.reactions.AKGDH.ub = f\n",
    "    max_growth = model.slim_optimize()\n",
    "    max_growth_flux.append(max_growth)\n",
    "    \n",
    "    # flux variability analysis\n",
    "    fva = cobra.flux_analysis.flux_variability_analysis(model, model.exchanges, loopless=True, fraction_of_optimum=1.00)\n",
    "    if f==0:\n",
    "        exchange_flux_max = fva['maximum'].to_frame()\n",
    "        exchange_flux_min = fva['minimum'].to_frame()\n",
    "    else:\n",
    "        exchange_flux_max = pd.merge(exchange_flux_max, fva['maximum'].to_frame())\n",
    "        exchange_flux_min = pd.merge(exchange_flux_min, fva['minimum'].to_frame())"
   ]
  },
  {
   "cell_type": "code",
   "execution_count": 25,
   "metadata": {},
   "outputs": [
    {
     "data": {
      "text/html": [
       "<div>\n",
       "<style scoped>\n",
       "    .dataframe tbody tr th:only-of-type {\n",
       "        vertical-align: middle;\n",
       "    }\n",
       "\n",
       "    .dataframe tbody tr th {\n",
       "        vertical-align: top;\n",
       "    }\n",
       "\n",
       "    .dataframe thead th {\n",
       "        text-align: right;\n",
       "    }\n",
       "</style>\n",
       "<table border=\"1\" class=\"dataframe\">\n",
       "  <thead>\n",
       "    <tr style=\"text-align: right;\">\n",
       "      <th></th>\n",
       "      <th>maximum</th>\n",
       "    </tr>\n",
       "  </thead>\n",
       "  <tbody>\n",
       "    <tr>\n",
       "      <th>EX_12dgr160_e_</th>\n",
       "      <td>0.000000</td>\n",
       "    </tr>\n",
       "    <tr>\n",
       "      <th>EX_12dgr180_e_</th>\n",
       "      <td>0.000000</td>\n",
       "    </tr>\n",
       "    <tr>\n",
       "      <th>EX_13dampp_e_</th>\n",
       "      <td>0.000000</td>\n",
       "    </tr>\n",
       "    <tr>\n",
       "      <th>EX_15dap_e_</th>\n",
       "      <td>0.000000</td>\n",
       "    </tr>\n",
       "    <tr>\n",
       "      <th>EX_1ag160_e_</th>\n",
       "      <td>0.000000</td>\n",
       "    </tr>\n",
       "    <tr>\n",
       "      <th>...</th>\n",
       "      <td>...</td>\n",
       "    </tr>\n",
       "    <tr>\n",
       "      <th>EX_xan_e_</th>\n",
       "      <td>0.000000</td>\n",
       "    </tr>\n",
       "    <tr>\n",
       "      <th>EX_zn2_e_</th>\n",
       "      <td>-0.001695</td>\n",
       "    </tr>\n",
       "    <tr>\n",
       "      <th>EX_haa_e_</th>\n",
       "      <td>0.000000</td>\n",
       "    </tr>\n",
       "    <tr>\n",
       "      <th>EX_lrhh_e_</th>\n",
       "      <td>0.000000</td>\n",
       "    </tr>\n",
       "    <tr>\n",
       "      <th>EX_llrhh_e_</th>\n",
       "      <td>0.000000</td>\n",
       "    </tr>\n",
       "  </tbody>\n",
       "</table>\n",
       "<p>340 rows × 1 columns</p>\n",
       "</div>"
      ],
      "text/plain": [
       "                 maximum\n",
       "EX_12dgr160_e_  0.000000\n",
       "EX_12dgr180_e_  0.000000\n",
       "EX_13dampp_e_   0.000000\n",
       "EX_15dap_e_     0.000000\n",
       "EX_1ag160_e_    0.000000\n",
       "...                  ...\n",
       "EX_xan_e_       0.000000\n",
       "EX_zn2_e_      -0.001695\n",
       "EX_haa_e_       0.000000\n",
       "EX_lrhh_e_      0.000000\n",
       "EX_llrhh_e_     0.000000\n",
       "\n",
       "[340 rows x 1 columns]"
      ]
     },
     "execution_count": 25,
     "metadata": {},
     "output_type": "execute_result"
    }
   ],
   "source": [
    "exchange_flux_max"
   ]
  },
  {
   "cell_type": "code",
   "execution_count": null,
   "metadata": {},
   "outputs": [],
   "source": []
  }
 ],
 "metadata": {
  "kernelspec": {
   "display_name": "Python 3",
   "language": "python",
   "name": "python3"
  },
  "language_info": {
   "codemirror_mode": {
    "name": "ipython",
    "version": 3
   },
   "file_extension": ".py",
   "mimetype": "text/x-python",
   "name": "python",
   "nbconvert_exporter": "python",
   "pygments_lexer": "ipython3",
   "version": "3.7.7"
  }
 },
 "nbformat": 4,
 "nbformat_minor": 4
}
