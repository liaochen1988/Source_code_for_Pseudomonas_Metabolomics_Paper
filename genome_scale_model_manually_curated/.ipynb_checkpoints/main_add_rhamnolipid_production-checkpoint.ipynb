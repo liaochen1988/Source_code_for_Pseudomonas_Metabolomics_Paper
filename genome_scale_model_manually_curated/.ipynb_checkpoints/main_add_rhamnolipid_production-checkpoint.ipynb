{
 "cells": [
  {
   "cell_type": "code",
   "execution_count": 1,
   "metadata": {},
   "outputs": [],
   "source": [
    "import cobra\n",
    "import numpy as np\n",
    "from cobra import Model, Reaction, Metabolite\n",
    "import matplotlib.pyplot as plt\n",
    "import pandas as pd\n",
    "from copy import deepcopy"
   ]
  },
  {
   "cell_type": "markdown",
   "metadata": {},
   "source": [
    "# Load Pseudomonas Putida model"
   ]
  },
  {
   "cell_type": "code",
   "execution_count": 2,
   "metadata": {},
   "outputs": [
    {
     "name": "stdout",
     "output_type": "stream",
     "text": [
      "Academic license - for non-commercial use only\n"
     ]
    }
   ],
   "source": [
    "model = cobra.io.load_json_model('SI3_iJN1411final_flux.json')\n",
    "model.solver = 'cplex'"
   ]
  },
  {
   "cell_type": "markdown",
   "metadata": {},
   "source": [
    "# Set glycerol minimal medium"
   ]
  },
  {
   "cell_type": "code",
   "execution_count": 3,
   "metadata": {},
   "outputs": [],
   "source": [
    "for rxn in model.exchanges:\n",
    "    rxn.lower_bound = 0\n",
    "\n",
    "glyc_min_media = {\n",
    "        'EX_glyc_e_':-10,        # glycerol\n",
    "        'EX_nh4_e_': -1000,      # ammonium\n",
    "        'EX_pi_e_':  -1000,      # phosphate\n",
    "        'EX_so4_e_': -1000,      # sulfate\n",
    "        'EX_fe3_e_': -1000,      # fe3+\n",
    "        'EX_mn2_e_': -1000,      # mn2+\n",
    "        'EX_zn2_e_': -1000,      # zn2+\n",
    "        'EX_cu2_e_': -1000,      # cu2+\n",
    "        'EX_ca2_e_': -1000,      # ca2+\n",
    "        'EX_cl_e_' : -1000,      # cl-\n",
    "        'EX_cobalt2_e_': -1000,  # cobalt\n",
    "        'EX_k_e_':   -1000,      # k\n",
    "        'EX_mobd_e_'   : -1000,  # mo6+\n",
    "        'EX_na1_e_'    : -1000,     # na+\n",
    "        'EX_ni2_e_'    : -1000,     # ni2+\n",
    "        'EX_mg2_e_': -1000,      # mg2+\n",
    "        'EX_o2_e_':  -1000\n",
    "    }\n",
    "\n",
    "for r in glyc_min_media.keys():\n",
    "    try:\n",
    "        rxn = model.reactions.get_by_id(r)\n",
    "        rxn.lower_bound = glyc_min_media[r]\n",
    "        rxn.upper_bound = 1000\n",
    "    except:\n",
    "        print(\"The reaction {} does not exist in model.\".format(str(r)))\n",
    "        continue"
   ]
  },
  {
   "cell_type": "code",
   "execution_count": 4,
   "metadata": {},
   "outputs": [
    {
     "name": "stdout",
     "output_type": "stream",
     "text": [
      "growth rate = 0.60\n"
     ]
    }
   ],
   "source": [
    "# make sure that the model grows in the glycerol minimal medium\n",
    "print('growth rate = %2.2f' % (model.slim_optimize()))"
   ]
  },
  {
   "cell_type": "markdown",
   "metadata": {},
   "source": [
    "# Add rhamnolipid biosynthesis pathway"
   ]
  },
  {
   "cell_type": "code",
   "execution_count": 5,
   "metadata": {},
   "outputs": [],
   "source": [
    "haa_c = Metabolite(\n",
    "        'haa_c',\n",
    "        formula='C([R2])[C@H](CC(=O)O[C@H](C[R1])CC(=O)[O-])O',\n",
    "        name='M_3___3_hydroxyalkanoyloxy__alkanoate',\n",
    "        compartment='Cytosol')\n",
    "lrhh_c = Metabolite(\n",
    "        'lrhh_c',\n",
    "        formula='C26H46O9',\n",
    "        name='M_L_rhamnosyl_3_hydroxydecanoyl_3_hydroxydecanoate_C26H46O9',\n",
    "        compartment='Cytosol')\n",
    "llrhh_c = Metabolite(\n",
    "        'llrhh_c',\n",
    "        formula='C32H58O13',\n",
    "        name='M_L_rhamnosyl_Lrhamnosyl_3_hydroxydecanoyl_3_hydroxydecanoate_C32H58O13',\n",
    "        compartment='Cytosol')\n",
    "haa_p = Metabolite(\n",
    "        'haa_p',\n",
    "        formula='C([R2])[C@H](CC(=O)O[C@H](C[R1])CC(=O)[O-])O',\n",
    "        name='M_3___3_hydroxyalkanoyloxy__alkanoate',\n",
    "        compartment='Periplasm')\n",
    "lrhh_p = Metabolite(\n",
    "        'lrhh_p',\n",
    "        formula='C26H46O9',\n",
    "        name='M_L_rhamnosyl_3_hydroxydecanoyl_3_hydroxydecanoate_C26H46O9',\n",
    "        compartment='Periplasm')\n",
    "llrhh_p = Metabolite(\n",
    "        'llrhh_p',\n",
    "        formula='C32H58O13',\n",
    "        name='M_L_rhamnosyl_rhamnosyl_3_hydroxydecanoyl_3_hydroxydecanoate_C32H58O13',\n",
    "        compartment='Periplasm')\n",
    "haa_e = Metabolite(\n",
    "        'haa_e',\n",
    "        formula='C([R2])[C@H](CC(=O)O[C@H](C[R1])CC(=O)[O-])O',\n",
    "        name='M_3___3_hydroxyalkanoyloxy__alkanoate',\n",
    "        compartment='Extra_organism')\n",
    "lrhh_e = Metabolite(\n",
    "        'lrhh_e',\n",
    "        formula='C26H46O9',\n",
    "        name='M_L_rhamnosyl_3_hydroxydecanoyl_3_hydroxydecanoate_C26H46O9',\n",
    "        compartment='Extra_organism')\n",
    "llrhh_e = Metabolite(\n",
    "        'llrhh_e',\n",
    "        formula='C32H58O13',\n",
    "        name='M_L_rhamnosyl_rhamnosyl_3_hydroxydecanoyl_3_hydroxydecanoate_C32H58O13',\n",
    "        compartment='Extra_organism')"
   ]
  },
  {
   "cell_type": "code",
   "execution_count": 6,
   "metadata": {},
   "outputs": [],
   "source": [
    "# 2 3haACP_c + h2o_c -> haa_c + 2 ACP_c + h_c\n",
    "reaction1 = Reaction('RHLA')\n",
    "reaction1.name = 'R_rhamnosyltransferase_chain_A_'\n",
    "reaction1.subsystem = 'S_Rhamnolipid_Synthesis'\n",
    "reaction1.lower_bound = 0\n",
    "reaction1.upper_bound = +999999.0\n",
    "reaction1.add_metabolites({\n",
    "    model.metabolites.get_by_id('3haACP_c'): -2.0, # 3haACP\n",
    "    model.metabolites.get_by_id('h2o_c'): -1.0, # h2o\n",
    "    haa_c: +1.0, # haa\n",
    "    model.metabolites.get_by_id('ACP_c'): +2.0, # ACP\n",
    "    model.metabolites.get_by_id('h_c'): +1.0 # h\n",
    "})\n",
    "reaction1.gene_reaction_rule = 'PA3479'\n",
    "\n",
    "# dtdp4d6dm_c + haa_c -> lrhh_c + dtdp_c + h_c\n",
    "reaction2 = Reaction('RHLB')\n",
    "reaction2.name = 'R_rhamnosyltransferase_chain_B_'\n",
    "reaction2.subsystem = 'S_Rhamnolipid_Synthesis'\n",
    "reaction2.lower_bound = 0\n",
    "reaction2.upper_bound = +999999.0\n",
    "reaction2.add_metabolites({\n",
    "    model.metabolites.get_by_id('dtdp4d6dm_c'): -1.0, # dtdp4d6dm\n",
    "    haa_c: -1.0, # haa\n",
    "    model.metabolites.get_by_id('h_c'): +1.0, # h\n",
    "    lrhh_c: +1.0, # lrhh\n",
    "    model.metabolites.get_by_id('dtdp_c'): +1.0 # dtdp\n",
    "})\n",
    "reaction2.gene_reaction_rule = 'PA3478'\n",
    "\n",
    "# dtdp4d6dm_c + lrhh_c --> dtdp_c + llrhh_c + h_c\n",
    "reaction3 = Reaction('RHLC')\n",
    "reaction3.name = 'R_rhamnosyltransferase_2_'\n",
    "reaction3.subsystem = 'S_Rhamnolipid_Synthesis'\n",
    "reaction3.lower_bound = 0\n",
    "reaction3.upper_bound = +999999.0\n",
    "reaction3.add_metabolites({\n",
    "    model.metabolites.get_by_id('dtdp4d6dm_c'): -1.0, # dtdp4d6dm\n",
    "    lrhh_c: -1.0, # lrhh\n",
    "    model.metabolites.get_by_id('dtdp_c'): +1.0, # dtdp\n",
    "    llrhh_c: +1.0, # llrhh\n",
    "    model.metabolites.get_by_id('h_c'): +1.0 # h\n",
    "})\n",
    "reaction3.gene_reaction_rule = 'PA1130'\n",
    "\n",
    "# haa_c <--> haa_p\n",
    "reaction4 = Reaction('HAAt2rpp')\n",
    "reaction4.name = 'R_rhamnolipid_precursor_reversible_transport__periplasm_'\n",
    "reaction4.subsystem = 'S_Transport__Inner_Membrane'\n",
    "reaction4.lower_bound = -999999.0\n",
    "reaction4.upper_bound = +999999.0\n",
    "reaction4.add_metabolites({\n",
    "    haa_c: -1.0, # haa\n",
    "    haa_p: +1.0 # haaa\n",
    "})\n",
    "reaction4.gene_reaction_rule = ''\n",
    "\n",
    "# lrhh_c <--> lrhh_p\n",
    "reaction5 = Reaction('LRHHt2rpp')\n",
    "reaction5.name = 'R_mono_rhamnolipid_reversible_transport__periplasm_'\n",
    "reaction5.subsystem = 'S_Transport__Inner_Membrane'\n",
    "reaction5.lower_bound = -999999.0\n",
    "reaction5.upper_bound = +999999.0\n",
    "reaction5.add_metabolites({\n",
    "    lrhh_c: -1.0, # lrhh\n",
    "    lrhh_p: +1.0 # lrhh\n",
    "})\n",
    "reaction5.gene_reaction_rule = ''\n",
    "\n",
    "# llrhh_c <--> llrhh_p\n",
    "reaction6 = Reaction('LLRHHt2rpp')\n",
    "reaction6.name = 'R_di_rhamnolipid_reversible_transport__periplasm_'\n",
    "reaction6.subsystem = 'S_Transport__Inner_Membrane'\n",
    "reaction6.lower_bound = -999999.0\n",
    "reaction6.upper_bound = +999999.0\n",
    "reaction6.add_metabolites({\n",
    "    llrhh_c: -1.0, # llrhh\n",
    "    llrhh_p: +1.0 # llrhh\n",
    "})\n",
    "reaction6.gene_reaction_rule = ''\n",
    "\n",
    "# haa_p <--> haa_e\n",
    "reaction7 = Reaction('HAAtex')\n",
    "reaction7.name = 'R_rhamnolipid_precursor_transport_via_diffusion__extracellular_to_periplasm_'\n",
    "reaction7.subsystem = 'S_Transport__Outer_Membrane'\n",
    "reaction7.lower_bound = -999999.0\n",
    "reaction7.upper_bound = +999999.0\n",
    "reaction7.add_metabolites({\n",
    "    haa_p: -1.0, # haa\n",
    "    haa_e: +1.0 # haa\n",
    "})\n",
    "reaction7.gene_reaction_rule = ''\n",
    "\n",
    "# lrhh_p <--> lrhh_e\n",
    "reaction8 = Reaction('LRHHtex')\n",
    "reaction8.name = 'R_mono_rhamnolipid_transport_via_diffusion__extracellular_to_periplasm_'\n",
    "reaction8.subsystem = 'S_Transport__Outer_Membrane'\n",
    "reaction8.lower_bound = -999999.0\n",
    "reaction8.upper_bound = +999999.0\n",
    "reaction8.add_metabolites({\n",
    "    lrhh_p: -1.0, # lrhh\n",
    "    lrhh_e: +1.0 # lrhh\n",
    "})\n",
    "reaction8.gene_reaction_rule = ''\n",
    "\n",
    "# llrhh_p <--> llrhh_e\n",
    "reaction9 = Reaction('LLRHHtex')\n",
    "reaction9.name = 'R_di_rhamnolipid_transport_via_diffusion__extracellular_to_periplasm_'\n",
    "reaction9.subsystem = 'S_Transport__Outer_Membrane'\n",
    "reaction9.lower_bound = -999999.0\n",
    "reaction9.upper_bound = +999999.0\n",
    "reaction9.add_metabolites({\n",
    "    llrhh_p: -1.0, # llrhh\n",
    "    llrhh_e: +1.0 # llrhh\n",
    "})\n",
    "reaction9.gene_reaction_rule = ''\n",
    "\n",
    "# haa_e --> \n",
    "reaction10 = Reaction('EX_haa_e_')\n",
    "reaction10.name = 'R_HAA_exchange'\n",
    "reaction10.subsystem = 'S_'\n",
    "reaction10.lower_bound = 0\n",
    "reaction10.upper_bound = +999999.0\n",
    "reaction10.add_metabolites({\n",
    "    haa_e: -1.0 # haa\n",
    "})\n",
    "reaction10.gene_reaction_rule = ''\n",
    "\n",
    "# lrhh_e --> \n",
    "reaction11 = Reaction('EX_lrhh_e_')\n",
    "reaction11.name = 'R_LRHH_exchange'\n",
    "reaction11.subsystem = 'S_'\n",
    "reaction11.lower_bound = 0\n",
    "reaction11.upper_bound = +999999.0\n",
    "reaction11.add_metabolites({\n",
    "    lrhh_e: -1.0 # lrhh\n",
    "})\n",
    "reaction11.gene_reaction_rule = ''\n",
    "\n",
    "# llrhh_e -->\n",
    "reaction12 = Reaction('EX_llrhh_e_')\n",
    "reaction12.name = 'R_LLRHH_exchange'\n",
    "reaction12.subsystem = 'S_'\n",
    "reaction12.lower_bound = 0\n",
    "reaction12.upper_bound = +999999.0\n",
    "reaction12.add_metabolites({\n",
    "    llrhh_e: -1.0 # llrhh\n",
    "})\n",
    "reaction12.gene_reaction_rule = ''"
   ]
  },
  {
   "cell_type": "code",
   "execution_count": 7,
   "metadata": {},
   "outputs": [],
   "source": [
    "model.add_reactions([reaction1, reaction2, reaction3, reaction4, reaction5, \n",
    "                     reaction6, reaction7, reaction8, reaction9, reaction10,\n",
    "                     reaction11, reaction12])"
   ]
  },
  {
   "cell_type": "code",
   "execution_count": 8,
   "metadata": {},
   "outputs": [
    {
     "name": "stdout",
     "output_type": "stream",
     "text": [
      "max rhamnolipid production = 1.50\n"
     ]
    }
   ],
   "source": [
    "# make sure that the model can produce rhamnolipid\n",
    "model2 = deepcopy(model)\n",
    "model2.objective = model2.reactions.EX_llrhh_e_.flux_expression\n",
    "model2.objective.direction = 'max'\n",
    "print('max rhamnolipid production = %2.2f'% (model2.slim_optimize()))"
   ]
  },
  {
   "cell_type": "code",
   "execution_count": 12,
   "metadata": {},
   "outputs": [],
   "source": [
    "cobra.io.save_json_model(model, \"SI3_iJN1411final_flux_w_rhamnolipid_biosynthesis.json\")"
   ]
  },
  {
   "cell_type": "code",
   "execution_count": null,
   "metadata": {},
   "outputs": [],
   "source": []
  }
 ],
 "metadata": {
  "kernelspec": {
   "display_name": "Python 3",
   "language": "python",
   "name": "python3"
  },
  "language_info": {
   "codemirror_mode": {
    "name": "ipython",
    "version": 3
   },
   "file_extension": ".py",
   "mimetype": "text/x-python",
   "name": "python",
   "nbconvert_exporter": "python",
   "pygments_lexer": "ipython3",
   "version": "3.7.7"
  }
 },
 "nbformat": 4,
 "nbformat_minor": 4
}
