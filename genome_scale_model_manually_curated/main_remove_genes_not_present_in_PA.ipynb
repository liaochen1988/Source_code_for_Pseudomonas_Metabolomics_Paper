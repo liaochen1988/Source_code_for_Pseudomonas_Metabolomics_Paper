{
 "cells": [
  {
   "cell_type": "code",
   "execution_count": 67,
   "metadata": {},
   "outputs": [],
   "source": [
    "import cobra\n",
    "import numpy as np\n",
    "import pandas as pd\n",
    "import os\n",
    "from copy import deepcopy\n",
    "import re"
   ]
  },
  {
   "cell_type": "markdown",
   "metadata": {},
   "source": [
    "# Read Pseudomonas Putida model w/ rhamnolipid biosynthesis pathway"
   ]
  },
  {
   "cell_type": "code",
   "execution_count": 68,
   "metadata": {},
   "outputs": [],
   "source": [
    "def use_glyMM (model):\n",
    "    \n",
    "    for rxn in model.exchanges:\n",
    "        rxn.lower_bound = 0\n",
    "\n",
    "    glyc_min_media = {\n",
    "        'EX_glyc_e_':-10,        # glycerol\n",
    "        'EX_nh4_e_': -1000,      # ammonium\n",
    "        'EX_pi_e_':  -1000,      # phosphate\n",
    "        'EX_so4_e_': -1000,      # sulfate\n",
    "        'EX_fe3_e_': -1000,      # fe3+\n",
    "        'EX_mn2_e_': -1000,      # mn2+\n",
    "        'EX_zn2_e_': -1000,      # zn2+\n",
    "        'EX_cu2_e_': -1000,      # cu2+\n",
    "        'EX_ca2_e_': -1000,      # ca2+\n",
    "        'EX_cl_e_' : -1000,      # cl-\n",
    "        'EX_cobalt2_e_': -1000,  # cobalt\n",
    "        'EX_k_e_':   -1000,      # k\n",
    "        'EX_mobd_e_'   : -1000,  # mo6+\n",
    "        'EX_na1_e_'    : -1000,     # na+\n",
    "        'EX_ni2_e_'    : -1000,     # ni2+\n",
    "        'EX_mg2_e_': -1000,      # mg2+\n",
    "        'EX_o2_e_':  -1000\n",
    "    }\n",
    "\n",
    "    for r in glyc_min_media.keys():\n",
    "        try:\n",
    "            rxn = model.reactions.get_by_id(r)\n",
    "            rxn.lower_bound = glyc_min_media[r]\n",
    "            rxn.upper_bound = 1000\n",
    "        except:\n",
    "            print(\"The reaction {} does not exist in model.\".format(str(r)))\n",
    "            continue\n",
    "            \n",
    "    return model"
   ]
  },
  {
   "cell_type": "code",
   "execution_count": 69,
   "metadata": {},
   "outputs": [
    {
     "name": "stdout",
     "output_type": "stream",
     "text": [
      "0.6015473096312804\n"
     ]
    }
   ],
   "source": [
    "df_pp = cobra.io.load_json_model('SI3_iJN1411final_flux_w_rhamnolipid_biosynthesis.json')\n",
    "df_pp = use_glyMM(df_pp)\n",
    "df_pp.solver = 'cplex'\n",
    "print(df_pp.slim_optimize())"
   ]
  },
  {
   "cell_type": "code",
   "execution_count": 70,
   "metadata": {},
   "outputs": [
    {
     "data": {
      "text/plain": [
       "0.0 + 1.0*BiomassKT2440_WT3 - 1.0*BiomassKT2440_WT3_reverse_2cf2b"
      ]
     },
     "execution_count": 70,
     "metadata": {},
     "output_type": "execute_result"
    }
   ],
   "source": [
    "df_pp.objective.expression"
   ]
  },
  {
   "cell_type": "markdown",
   "metadata": {},
   "source": [
    "# Find genes in the Pseudomonas putida model are missing in all Pseudomonas aeruginosa strains"
   ]
  },
  {
   "cell_type": "code",
   "execution_count": 71,
   "metadata": {},
   "outputs": [
    {
     "data": {
      "text/html": [
       "<div>\n",
       "<style scoped>\n",
       "    .dataframe tbody tr th:only-of-type {\n",
       "        vertical-align: middle;\n",
       "    }\n",
       "\n",
       "    .dataframe tbody tr th {\n",
       "        vertical-align: top;\n",
       "    }\n",
       "\n",
       "    .dataframe thead th {\n",
       "        text-align: right;\n",
       "    }\n",
       "</style>\n",
       "<table border=\"1\" class=\"dataframe\">\n",
       "  <thead>\n",
       "    <tr style=\"text-align: right;\">\n",
       "      <th></th>\n",
       "      <th>rhamn3cats</th>\n",
       "      <th>rhamn2cats</th>\n",
       "    </tr>\n",
       "    <tr>\n",
       "      <th>strain</th>\n",
       "      <th></th>\n",
       "      <th></th>\n",
       "    </tr>\n",
       "  </thead>\n",
       "  <tbody>\n",
       "    <tr>\n",
       "      <th>F22031</th>\n",
       "      <td>2</td>\n",
       "      <td>1</td>\n",
       "    </tr>\n",
       "    <tr>\n",
       "      <th>F23197</th>\n",
       "      <td>2</td>\n",
       "      <td>1</td>\n",
       "    </tr>\n",
       "    <tr>\n",
       "      <th>F30658</th>\n",
       "      <td>1</td>\n",
       "      <td>1</td>\n",
       "    </tr>\n",
       "    <tr>\n",
       "      <th>F34365</th>\n",
       "      <td>2</td>\n",
       "      <td>1</td>\n",
       "    </tr>\n",
       "    <tr>\n",
       "      <th>F5677</th>\n",
       "      <td>0</td>\n",
       "      <td>0</td>\n",
       "    </tr>\n",
       "  </tbody>\n",
       "</table>\n",
       "</div>"
      ],
      "text/plain": [
       "        rhamn3cats  rhamn2cats\n",
       "strain                        \n",
       "F22031           2           1\n",
       "F23197           2           1\n",
       "F30658           1           1\n",
       "F34365           2           1\n",
       "F5677            0           0"
      ]
     },
     "execution_count": 71,
     "metadata": {},
     "output_type": "execute_result"
    }
   ],
   "source": [
    "df_rhl = pd.read_excel('../data/rhamnolipids/rhamnMat.xlsx', index_col=0)\n",
    "df_rhl = df_rhl.rename({'PA14':'UCBPP-PA14'})\n",
    "df_rhl.head()"
   ]
  },
  {
   "cell_type": "code",
   "execution_count": 72,
   "metadata": {},
   "outputs": [],
   "source": [
    "missing_genes = {}\n",
    "for g in df_pp.genes:\n",
    "    missing_genes[g.id] = True\n",
    "    \n",
    "for strain in df_rhl.index:\n",
    "    filename = '../reciprocal_blast_ref_PP_KT2440/PP_KT2440_vs_PA_'+strain+'.txt'\n",
    "    if os.path.isfile(filename): \n",
    "        df_bbh = pd.read_csv(filename, ',', index_col=0)\n",
    "        \n",
    "        # if it's not bidirectional then remove\n",
    "        df_bbh = df_bbh[df_bbh.BBH == '<=>']\n",
    "        assert len(df_bbh.subject) == len(np.unique(df_bbh.subject))\n",
    "        \n",
    "        for g in df_pp.genes:\n",
    "            if g.id in list(df_bbh.subject):\n",
    "                missing_genes[g.id] = False"
   ]
  },
  {
   "cell_type": "code",
   "execution_count": 74,
   "metadata": {},
   "outputs": [
    {
     "data": {
      "text/plain": [
       "1160"
      ]
     },
     "execution_count": 74,
     "metadata": {},
     "output_type": "execute_result"
    }
   ],
   "source": [
    "# genes that are present in at least one Pseudomonas aeruginosa strain\n",
    "genes_to_remove = [k for k, v in missing_genes.items() if v==True]\n",
    "print(len(genes_to_keep))"
   ]
  },
  {
   "cell_type": "code",
   "execution_count": 75,
   "metadata": {},
   "outputs": [
    {
     "data": {
      "text/plain": [
       "255"
      ]
     },
     "execution_count": 75,
     "metadata": {},
     "output_type": "execute_result"
    }
   ],
   "source": [
    "# genes that are specific to Pseudomonas putida strain\n",
    "genes_to_keep = [k for k, v in missing_genes.items() if v==False]\n",
    "print(len(genes_to_remove))"
   ]
  },
  {
   "cell_type": "markdown",
   "metadata": {},
   "source": [
    "# Remove these genes and associated reactions"
   ]
  },
  {
   "cell_type": "code",
   "execution_count": 76,
   "metadata": {
    "scrolled": true
   },
   "outputs": [
    {
     "name": "stdout",
     "output_type": "stream",
     "text": [
      "1P2CBXLCYCL removed\n",
      "1PY4h3cAH removed\n",
      "3HLYTCL removed\n",
      "3MBZALDH removed\n",
      "3MBZDH removed\n",
      "3MCAT23DOX removed\n",
      "3OADPCOAT removed\n",
      "4ABUTabcpp removed\n",
      "4CMCOAS removed\n",
      "4HPRODCabcpp removed\n",
      "4HPROLTabcpp removed\n",
      "4MBZALDH removed\n",
      "4MBZDH removed\n",
      "4MCAT23DOX removed\n",
      "4OD removed\n",
      "4OD2 removed\n",
      "5DH4DGLCD removed\n",
      "6HNACt1pp removed\n",
      "AADSACYCL removed\n",
      "AALDCDLsi removed\n",
      "ACALD removed\n",
      "ADOCBLtonex removed\n",
      "AGM3Pt2pp removed\n",
      "AGM4Pt2pp removed\n",
      "AGMT removed\n",
      "AGMt2pp removed\n",
      "ALAt2pp removed\n",
      "ALDD19x removed\n",
      "ALLTNRA removed\n",
      "ALPATE160pp removed\n",
      "ALPATE161pp removed\n",
      "ALPATE180pp removed\n",
      "ALPATE181pp removed\n",
      "ALPATG160pp removed\n",
      "ALPATG161pp removed\n",
      "ALPATG180pp removed\n",
      "ALPATG181pp removed\n",
      "ALTRH removed\n",
      "AOBUTDs growth essential, cannot be removed\n",
      "AOXHEXCYCL removed\n",
      "APENTAMAH2 removed\n",
      "ARBTNexs removed\n",
      "ARBTNtonex removed\n",
      "ASPSALy removed\n",
      "ATPHs removed\n",
      "BZALDH removed\n",
      "BZDH removed\n",
      "BZtex removed\n",
      "CACOAHA removed\n",
      "CAFFCOA removed\n",
      "CARBSARAH removed\n",
      "CAT23DOX removed\n",
      "CAt6pp growth essential, cannot be removed\n",
      "CBItonex removed\n",
      "CBL1tonex removed\n",
      "CCPpp removed\n",
      "CD2t5 removed\n",
      "CD2t6 removed\n",
      "CELASEpp removed\n",
      "CELLS removed\n",
      "CLt3_2pp growth essential, cannot be removed\n",
      "CMCBTFexs removed\n",
      "CMCBTFtonex removed\n",
      "CMtexabc removed\n",
      "CO2tex removed\n",
      "CO2tpp removed\n",
      "COCOAHA removed\n",
      "COtex removed\n",
      "COtpp removed\n",
      "CREATtpp removed\n",
      "CSPMDDC removed\n",
      "CSPMDDH removed\n",
      "CU2tonex removed\n",
      "CYSTS removed\n",
      "CYSabcpp removed\n",
      "DALAt2pp removed\n",
      "DATPHs removed\n",
      "DH3MCHCDH removed\n",
      "DH4MCHCDH removed\n",
      "DHMPTRx removed\n",
      "DLASNR removed\n",
      "DLCYSR removed\n",
      "DLMETR removed\n",
      "DLYSOXGAT removed\n",
      "DLYSPYRAT removed\n",
      "DSERt2pp removed\n",
      "ETOHtrpp removed\n",
      "FALGTHLs removed\n",
      "FBACS growth essential, cannot be removed\n",
      "FCOAHA removed\n",
      "FE3DCITCH removed\n",
      "FE3DCITtonex removed\n",
      "FE3PYOVD2tonex removed\n",
      "FE3PYOVDL removed\n",
      "FE3PYOVDL2 removed\n",
      "FE3PYOVDtonex removed\n",
      "FECRMexs removed\n",
      "FECRMtonex removed\n",
      "FEENTERexs removed\n",
      "FEENTERtonex removed\n",
      "FEOXAMexs removed\n",
      "FEOXAMtonex removed\n",
      "FERULCOAS removed\n",
      "G5SADs removed\n",
      "GADOX removed\n",
      "GALCTD removed\n",
      "GALURDH removed\n",
      "GALURt2rpp removed\n",
      "GALURtex removed\n",
      "GAt1 removed\n",
      "GAt2pp removed\n",
      "GCALDtabcpp removed\n",
      "GGSPMDS removed\n",
      "GLCNtex removed\n",
      "GLCRD removed\n",
      "GLCURDH removed\n",
      "GLCURt2rpp removed\n",
      "GLCURtex removed\n",
      "GLYBt2pp removed\n",
      "GLYCAt2rpp removed\n",
      "GLYabc2pp removed\n",
      "GLYt2pp removed\n",
      "GND removed\n",
      "GTPHs removed\n",
      "H2CO3D2 removed\n",
      "H2O2tex removed\n",
      "H2Otex growth essential, cannot be removed\n",
      "H2SO removed\n",
      "HCYSMT removed\n",
      "HCYSMT2 removed\n",
      "HISabcpp removed\n",
      "HMSD removed\n",
      "HMSD2 removed\n",
      "HMSH removed\n",
      "HMSH2 removed\n",
      "HMSH3 removed\n",
      "HOPNTAL removed\n",
      "HOPNTAL2 removed\n",
      "HOPNTAL3 removed\n",
      "LTDCL removed\n",
      "MALEI removed\n",
      "MANE removed\n",
      "MCBTFUexs growth essential, cannot be removed\n",
      "MCBTFtonex growth essential, cannot be removed\n",
      "MDH removed\n",
      "MEOHtex removed\n",
      "MEOHtrpp removed\n",
      "METGL removed\n",
      "METOX1s removed\n",
      "METOX2s removed\n",
      "MMETt2pp removed\n",
      "MTOLDOX removed\n",
      "MXMO removed\n",
      "NACHY removed\n",
      "NACt1pp removed\n",
      "NAt3_2pp removed\n",
      "NAt3pp removed\n",
      "NFMLDF removed\n",
      "NTD10pp removed\n",
      "NTD11pp removed\n",
      "NTD12pp removed\n",
      "NTD1pp removed\n",
      "NTD2pp removed\n",
      "NTD3pp removed\n",
      "NTD4pp removed\n",
      "NTD5pp removed\n",
      "NTD6pp removed\n",
      "NTD7pp removed\n",
      "NTD8pp removed\n",
      "NTD9pp removed\n",
      "NTRARx removed\n",
      "NTRIR2x removed\n",
      "O2tex growth essential, cannot be removed\n",
      "O2tpp growth essential, cannot be removed\n",
      "OCAALD removed\n",
      "OHCUDC2 removed\n",
      "OMAHY removed\n",
      "OMAIS removed\n",
      "OMCDC growth essential, cannot be removed\n",
      "OP4ENH removed\n",
      "OP4ENH2 removed\n",
      "OP4ENH3 removed\n",
      "OXCOAHDH removed\n",
      "OXDHCOAT removed\n",
      "P5CD removed\n",
      "PACALtabcpp removed\n",
      "PACCOAE removed\n",
      "PACCOAL removed\n",
      "PACt3 removed\n",
      "PB2t5 removed\n",
      "PB2t6 removed\n",
      "PEAL2tabc removed\n",
      "PEALtabc removed\n",
      "PEAMNO2pp removed\n",
      "PEAtabcpp removed\n",
      "PGMT growth essential, cannot be removed\n",
      "PHEMEtonex removed\n",
      "PLPSLpp growth essential, cannot be removed\n",
      "PMANM removed\n",
      "PPCK removed\n",
      "PPM removed\n",
      "PQQAC growth essential, cannot be removed\n",
      "PROD2 removed\n",
      "PTOLDOX removed\n",
      "PUTA3 removed\n",
      "PXMO removed\n",
      "PYRDOX removed\n",
      "PYRZAM removed\n",
      "QUIDH removed\n",
      "QUINtex removed\n",
      "QUINtpp removed\n",
      "R05219 growth essential, cannot be removed\n",
      "REPHACCOAI removed\n",
      "RIBabcpp removed\n",
      "SERt2rpp removed\n",
      "SHEMEtonex removed\n",
      "SHK3D removed\n",
      "SKMt2pp removed\n",
      "SO2tpp removed\n",
      "SSALx removed\n",
      "TCYNTtpp removed\n",
      "THZPSN growth essential, cannot be removed\n",
      "TNTHAC1 removed\n",
      "TNTHAC2 removed\n",
      "TOLt7 removed\n",
      "TOLtex removed\n",
      "TTRCYCt7pp removed\n",
      "UREA removed\n",
      "VNDH removed\n",
      "VNDH_2 growth essential, cannot be removed\n",
      "VNDH_3 removed\n",
      "XMO removed\n",
      "ZN2t5 removed\n",
      "ZN2t6 removed\n"
     ]
    }
   ],
   "source": [
    "for rxn in df_pp.reactions:\n",
    "    rule = rxn.gene_reaction_rule\n",
    "            \n",
    "    # spontaneous reaction\n",
    "    if rule=='':\n",
    "        continue\n",
    "                \n",
    "    # enzymatic reaction\n",
    "    for gid in genes_to_keep:\n",
    "        rule = rule.replace(gid, '1')\n",
    "            \n",
    "    # the remaining unmatched reactions are set to 0\n",
    "    rule = re.sub(\"PP_\\\\d+\", \"0\", rule) \n",
    "    rule = re.sub(\"PP_s\\\\d+\", \"0\", rule)\n",
    "    rule = re.sub(\"pWW\\d_\\\\d+\", \"0\", rule)\n",
    "            \n",
    "    # rhamnolipid biosynthesis\n",
    "    rule = rule.replace('PA3479','1')\n",
    "    rule = rule.replace('PA3478','1')\n",
    "    rule = rule.replace('PA1130','1')\n",
    "            \n",
    "    is_keep = eval(rule)\n",
    "    if not is_keep:\n",
    "        lb_old = float(rxn.lower_bound)\n",
    "        ub_old = float(rxn.upper_bound)\n",
    "        rxn.lower_bound = 0\n",
    "        rxn.upper_bound = 0\n",
    "        max_mu = df_pp.slim_optimize()\n",
    "        if np.isnan(max_mu) or max_mu < 1e-5:\n",
    "            rxn.lower_bound = lb_old\n",
    "            rxn.upper_bound = ub_old\n",
    "            print(rxn.id, 'growth essential, cannot be removed')\n",
    "        else:\n",
    "            print(rxn.id, 'removed')\n",
    "\n",
    "cobra.io.save_json_model(df_pp, 'pruned_SI3_iJN1411final_flux_w_rhamnolipid_biosynthesis.json')"
   ]
  },
  {
   "cell_type": "markdown",
   "metadata": {},
   "source": [
    "# Make sure that the model grows and produces rhamnolipid"
   ]
  },
  {
   "cell_type": "code",
   "execution_count": 78,
   "metadata": {},
   "outputs": [
    {
     "name": "stdout",
     "output_type": "stream",
     "text": [
      "0.4423766580515935\n"
     ]
    }
   ],
   "source": [
    "# make sure the model grows\n",
    "df_pp = cobra.io.load_json_model('pruned_SI3_iJN1411final_flux_w_rhamnolipid_biosynthesis.json')\n",
    "print(df_pp.slim_optimize())"
   ]
  },
  {
   "cell_type": "code",
   "execution_count": 79,
   "metadata": {},
   "outputs": [
    {
     "name": "stdout",
     "output_type": "stream",
     "text": [
      "max rhamnolipid production = 1.50\n"
     ]
    }
   ],
   "source": [
    "# test if the new model can produce rhamnolipids\n",
    "df_pp.objective = df_pp.reactions.EX_llrhh_e_.flux_expression\n",
    "df_pp.objective.direction = 'max'\n",
    "print('max rhamnolipid production = %2.2f'% (df_pp.slim_optimize()))"
   ]
  },
  {
   "cell_type": "markdown",
   "metadata": {},
   "source": [
    "# Remove reactions that form futile cycles for NADH/NADPH/GSH production"
   ]
  },
  {
   "cell_type": "code",
   "execution_count": 80,
   "metadata": {},
   "outputs": [],
   "source": [
    "def fix_NADH_NADPH_flux_loop(model):\n",
    "    \n",
    "    # NADTRHD, FMNRx and FMNR2r form a loop\n",
    "    # NADTRHD: nad_c + nadph_c --> nadh_c + nadp_c\n",
    "    # FMNRx: fmn_c + h_c + nadh_c --> fmnh2_c + nad_c        # missing in iMO1053\n",
    "    # FMNR2r: fmn_c + h_c + nadph_c <=> fmnh2_c + nadp_c     # missing in iMO1053\n",
    "    model.reactions.FMNR2r.lower_bound = 0\n",
    "    \n",
    "    # GLYD: h_c + hpyr_c + nadh_c <==> glyc_R_c + nad_c      # found in iMO1053, found in Pseudocyc (forward), found in Metacyc (bidirectional)\n",
    "    # TRSARr: 2h3oppan_c + h_c + nadh_c <=> glyc_R_c + nad_c # missing in iMO1053,  missing in Pseudocyc, found in Metacyc (forward)\n",
    "    model.reactions.GLYD.lower_bound = 0\n",
    "    model.reactions.TRSARr.lower_bound = 0\n",
    "\n",
    "    # Set of reactions that couple NADH/NAD to NADPH/NADP\n",
    "    # the first two reactions are found in Metacyc, Pathway: 9-cis, 11-trans-octadecadienoyl-CoA degradation \n",
    "    # HACD31i: 3hhd58coa_c + nad_c --> 3ohd58ccoa_c + h_c + nadh_c\n",
    "    # ECOAH36: 3hhd58coa_c <=> h2o_c + td58_2_coa_c                       # also found in Pseudocyc (Reverse)\n",
    "    # RECOAH24: R_3htd58coa_c <=> h2o_c + td58_2_coa_c\n",
    "    # RHACOAR142: 3ohd58coa_c + h_c + nadph_c <=> R_3htd58coa_c + nadp_c\n",
    "    #\n",
    "    # Reactions starting with \"RECOAH\" seems to be specific to PP but lack evidence in PA\n",
    "    # We assume that they can flow in the reverse direction, similar to ECOAH36\n",
    "#     for r in model.reactions:\n",
    "#         if r.id.startswith('RECOAH'):\n",
    "#             r.upper_bound = 0\n",
    "\n",
    "    # We did not find evidences that NAD/NADH is substrate of fdxr_42_c in both Pseudocyc and iMO1053\n",
    "    model.reactions.FRDO6r.lower_bound=0\n",
    "    #model.reactions.FRDO6r.upper_bound=0\n",
    "    model.reactions.FRDO7r.lower_bound=0\n",
    "    #model.reactions.FRDO7r.upper_bound=0\n",
    "\n",
    "    # GLUDx and GLUDy in Pseudocyc goes forward direction\n",
    "    # GLUDx: glu__L_c + h2o_c + nad_c ⇌ akg_c + h_c + nadh_c + nh4_c\n",
    "    # GLUDy: glu__L_c + h2o_c + nadp_c ⇌ akg_c + h_c + nadph_c + nh4_c\n",
    "    model.reactions.GLUDx.lower_bound = 0\n",
    "    #model.reactions.GLUDy.lower_bound = 0\n",
    "\n",
    "    # CO2 will be gone after released\n",
    "    #model.reactions.H2CO3D.upper_bound = 0\n",
    "    #model.reactions.HCO3E.upper_bound = 0\n",
    "\n",
    "    # SHK3Dr and SHK3D are the same reaction but conflict in reversibility\n",
    "    #model.reactions.SHK3Dr.lower_bound = 0\n",
    "\n",
    "    # PRPP is irreversible\n",
    "    #model.reactions.PRPPS.lower_bound = 0\n",
    "    \n",
    "    # LEUDHr, VALDHr, ILEDHr are all reversible, which can be coupled to generate high flux in NADH.\n",
    "    # Make them irreversible (reactions go in the direction of producing NH4).\n",
    "    model.reactions.LEUDHr.lower_bound = 0\n",
    "    model.reactions.VALDHr.lower_bound = 0\n",
    "    model.reactions.ILEDHr.lower_bound = 0\n",
    "    \n",
    "    # PDHcr: dhlam_c + nad_c <=> h_c + lpam_c + nadh_c\n",
    "    # iMO1053: forward direction\n",
    "    model.reactions.PDHcr.lower_bound = 0\n",
    "    \n",
    "    \n",
    "    return model"
   ]
  },
  {
   "cell_type": "code",
   "execution_count": 82,
   "metadata": {},
   "outputs": [],
   "source": [
    "df_pp = cobra.io.load_json_model('pruned_SI3_iJN1411final_flux_w_rhamnolipid_biosynthesis.json')\n",
    "df_pp.reactions.ATPM.lower_bound = 0 # ignore maintenance flux\n",
    "df_pp = fix_NADH_NADPH_flux_loop(df_pp)\n",
    "cobra.io.save_json_model(df_pp, 'pruned_SI3_iJN1411final_flux_w_rhamnolipid_biosynthesis.json')"
   ]
  }
 ],
 "metadata": {
  "kernelspec": {
   "display_name": "Python 3",
   "language": "python",
   "name": "python3"
  },
  "language_info": {
   "codemirror_mode": {
    "name": "ipython",
    "version": 3
   },
   "file_extension": ".py",
   "mimetype": "text/x-python",
   "name": "python",
   "nbconvert_exporter": "python",
   "pygments_lexer": "ipython3",
   "version": "3.7.7"
  }
 },
 "nbformat": 4,
 "nbformat_minor": 4
}
