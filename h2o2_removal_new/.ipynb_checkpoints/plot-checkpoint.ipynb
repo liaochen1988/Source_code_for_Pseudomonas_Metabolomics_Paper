{
 "cells": [
  {
   "cell_type": "code",
   "execution_count": 9,
   "metadata": {},
   "outputs": [],
   "source": [
    "import matplotlib.pyplot as plt\n",
    "import seaborn as sns\n",
    "import pandas as pd\n",
    "import scipy"
   ]
  },
  {
   "cell_type": "code",
   "execution_count": 30,
   "metadata": {},
   "outputs": [],
   "source": [
    "res = [['F22031',2, -0.0366],\n",
    "       ['F23197',2, -0.4813],\n",
    "       ['F30658',1, -0.6855],\n",
    "       ['F34365',2, -0.0174],\n",
    "       ['F5677', 0, -0.5320],\n",
    "       ['F63912',0, -0.5661],\n",
    "       ['F9670', 2, -0.1428],\n",
    "       ['H27930',0, -0.1559],\n",
    "       ['H47921',2, -0.2101],\n",
    "       ['H5708',1,  -0.2056],\n",
    "       ['M1608',0,  -7.0357],\n",
    "       ['M37351',1, -0.6433],\n",
    "       ['M55212',0, -1.2359],\n",
    "       ['M6075',1,0.0339],\n",
    "       ['M74707',2,-0.2743],\n",
    "       ['PA14',2,-0.0000],\n",
    "       ['PA7',2, -0.3471],\n",
    "       ['PAO1',2, -0.1219],\n",
    "       ['S86968',0,-0.4851],\n",
    "       ['T38079',2,-0.0840],\n",
    "       ['T52373',2,-0.0619],\n",
    "       ['T6313',2,-0.0352],\n",
    "       ['T63266',1,-0.0743],\n",
    "       ['W16407',1,-0.1895],\n",
    "       ['W25637',2,-0.0233],\n",
    "       ['W36662',0,-0.9634],\n",
    "       ['W45909',2,-0.1805],\n",
    "       ['W60856',0,-1.1083],\n",
    "       ['W70332',1,-0.3860],\n",
    "       ['W91453',2,-0.1169],\n",
    "       ['X78812',2, 0.0105],\n",
    "       ['X9820',2, -0.1664]]\n",
    "df= pd.DataFrame(res,columns=['strain','rl','h2o2_removal_rate_ave'])"
   ]
  },
  {
   "cell_type": "code",
   "execution_count": 34,
   "metadata": {},
   "outputs": [
    {
     "data": {
      "text/plain": [
       "(-1.5, 0.5)"
      ]
     },
     "execution_count": 34,
     "metadata": {},
     "output_type": "execute_result"
    },
    {
     "data": {
      "image/png": "[encoded data removed]",
      "text/plain": [
       "<Figure size 432x288 with 1 Axes>"
      ]
     },
     "metadata": {
      "needs_background": "light"
     },
     "output_type": "display_data"
    }
   ],
   "source": [
    "ax = sns.boxplot(x='rl',y='h2o2_removal_rate_ave',data=df)\n",
    "ax.set_ylim(-1.5,0.5)"
   ]
  },
  {
   "cell_type": "code",
   "execution_count": 8,
   "metadata": {},
   "outputs": [],
   "source": [
    "h2o2_0 = list(df.loc[df.rl==0,'h2o2'])\n",
    "h2o2_1 = list(df.loc[df.rl==1,'h2o2'])\n",
    "h2o2_2 = list(df.loc[df.rl==2,'h2o2'])"
   ]
  },
  {
   "cell_type": "code",
   "execution_count": 18,
   "metadata": {},
   "outputs": [
    {
     "data": {
      "text/plain": [
       "Ttest_indResult(statistic=-1.4920856442685024, pvalue=0.17792204067211204)"
      ]
     },
     "execution_count": 18,
     "metadata": {},
     "output_type": "execute_result"
    }
   ],
   "source": [
    "scipy.stats.ttest_ind(h2o2_0, h2o2_1, equal_var=False)"
   ]
  },
  {
   "cell_type": "code",
   "execution_count": 19,
   "metadata": {},
   "outputs": [
    {
     "data": {
      "text/plain": [
       "Ttest_indResult(statistic=-1.5791121850805252, pvalue=0.15716848252156262)"
      ]
     },
     "execution_count": 19,
     "metadata": {},
     "output_type": "execute_result"
    }
   ],
   "source": [
    "scipy.stats.ttest_ind(h2o2_1, h2o2_2, equal_var=False)"
   ]
  },
  {
   "cell_type": "code",
   "execution_count": 20,
   "metadata": {},
   "outputs": [
    {
     "data": {
      "text/plain": [
       "Ttest_indResult(statistic=-1.719092929642038, pvalue=0.1291465935381669)"
      ]
     },
     "execution_count": 20,
     "metadata": {},
     "output_type": "execute_result"
    }
   ],
   "source": [
    "scipy.stats.ttest_ind(h2o2_0, h2o2_2, equal_var=False)"
   ]
  },
  {
   "cell_type": "code",
   "execution_count": 21,
   "metadata": {},
   "outputs": [
    {
     "data": {
      "text/plain": [
       "Ttest_indResult(statistic=-1.6554850207048448, pvalue=0.14158278215124978)"
      ]
     },
     "execution_count": 21,
     "metadata": {},
     "output_type": "execute_result"
    }
   ],
   "source": [
    "scipy.stats.ttest_ind(h2o2_0, h2o2_2+h2o2_1, equal_var=False)"
   ]
  },
  {
   "cell_type": "code",
   "execution_count": 24,
   "metadata": {},
   "outputs": [
    {
     "data": {
      "text/plain": [
       "MannwhitneyuResult(statistic=11.0, pvalue=0.028098555959396924)"
      ]
     },
     "execution_count": 24,
     "metadata": {},
     "output_type": "execute_result"
    }
   ],
   "source": [
    "scipy.stats.mannwhitneyu(h2o2_0, h2o2_1)"
   ]
  },
  {
   "cell_type": "code",
   "execution_count": 26,
   "metadata": {},
   "outputs": [
    {
     "data": {
      "text/plain": [
       "MannwhitneyuResult(statistic=36.0, pvalue=0.07204245618613804)"
      ]
     },
     "execution_count": 26,
     "metadata": {},
     "output_type": "execute_result"
    }
   ],
   "source": [
    "scipy.stats.mannwhitneyu(h2o2_1, h2o2_2)"
   ]
  },
  {
   "cell_type": "code",
   "execution_count": 27,
   "metadata": {},
   "outputs": [
    {
     "data": {
      "text/plain": [
       "MannwhitneyuResult(statistic=6.0, pvalue=0.00017003501156497125)"
      ]
     },
     "execution_count": 27,
     "metadata": {},
     "output_type": "execute_result"
    }
   ],
   "source": [
    "scipy.stats.mannwhitneyu(h2o2_0, h2o2_2)"
   ]
  },
  {
   "cell_type": "code",
   "execution_count": null,
   "metadata": {},
   "outputs": [],
   "source": []
  }
 ],
 "metadata": {
  "kernelspec": {
   "display_name": "Python 3",
   "language": "python",
   "name": "python3"
  },
  "language_info": {
   "codemirror_mode": {
    "name": "ipython",
    "version": 3
   },
   "file_extension": ".py",
   "mimetype": "text/x-python",
   "name": "python",
   "nbconvert_exporter": "python",
   "pygments_lexer": "ipython3",
   "version": "3.7.7"
  }
 },
 "nbformat": 4,
 "nbformat_minor": 4
}
