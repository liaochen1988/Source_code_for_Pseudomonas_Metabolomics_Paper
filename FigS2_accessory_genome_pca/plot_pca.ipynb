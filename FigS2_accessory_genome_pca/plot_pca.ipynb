{
 "cells": [
  {
   "cell_type": "code",
   "execution_count": 25,
   "id": "7ea81016-27a9-491c-9038-3ee67ad6f63a",
   "metadata": {},
   "outputs": [],
   "source": [
    "import pandas as pd\n",
    "import matplotlib.pyplot as plt\n",
    "import seaborn as sns\n",
    "from sklearn.decomposition import PCA"
   ]
  },
  {
   "cell_type": "markdown",
   "id": "91c5fc44-cc81-4bcb-ba04-b7ffae85caa4",
   "metadata": {},
   "source": [
    "# PCA"
   ]
  },
  {
   "cell_type": "code",
   "execution_count": 137,
   "id": "47a3f549-dfd0-4236-b51e-e5382e536891",
   "metadata": {},
   "outputs": [
    {
     "data": {
      "image/png": "[encoded data removed]",
      "text/plain": [
       "<Figure size 360x360 with 1 Axes>"
      ]
     },
     "metadata": {
      "needs_background": "light"
     },
     "output_type": "display_data"
    }
   ],
   "source": [
    "df = pd.read_csv('gene_presence_absence.csv', index_col=0)\n",
    "df = df.iloc[:,13:]\n",
    "df = df[df.isna().any(axis=1)]\n",
    "\n",
    "df_rhamn3 = pd.read_excel('../rhamnolipids/rhamnMat.xlsx')[['strain','rhamn3cats']]\n",
    "df_rhamn3.loc[df_rhamn3.strain=='PA14','strain'] = 'UCBPP-PA14'\n",
    "\n",
    "common = list(set(df.columns).intersection(set(df_rhamn3.strain)))\n",
    "df = df[common]\n",
    "df_rhamn3 = df_rhamn3.set_index('strain').loc[common]\n",
    "\n",
    "for c in common:\n",
    "    df.loc[df[c].notnull(), c] = 1\n",
    "df = df.fillna(0).T\n",
    "\n",
    "pca = PCA(n_components=2)\n",
    "Xscore = pca.fit_transform(df)\n",
    "\n",
    "\n",
    "df2plot = pd.DataFrame(Xscore, columns=['PCA1','PCA2'], index=common)\n",
    "df2plot = pd.merge(df2plot, df_rhamn3, left_index=True, right_index=True, how='inner')\n",
    "\n",
    "fig, ax = plt.subplots(figsize=(5,5))\n",
    "sns.scatterplot(data=df2plot, x='PCA1', y='PCA2', hue='rhamn3cats', palette=\"deep\")\n",
    "\n",
    "plt.tight_layout()\n",
    "plt.rcParams['svg.fonttype'] = 'none'\n",
    "plt.savefig('pca.svg', dpi=600)"
   ]
  },
  {
   "cell_type": "code",
   "execution_count": 37,
   "id": "8fe0d606-e300-4298-9540-7cdc87dc7249",
   "metadata": {},
   "outputs": [
    {
     "data": {
      "text/plain": [
       "array([0.19019864, 0.1156404 ])"
      ]
     },
     "execution_count": 37,
     "metadata": {},
     "output_type": "execute_result"
    }
   ],
   "source": [
    "pca.explained_variance_ratio_"
   ]
  },
  {
   "cell_type": "code",
   "execution_count": 139,
   "id": "9da6be54-839b-4eac-9eb7-7e88683ad19f",
   "metadata": {},
   "outputs": [],
   "source": [
    "df.to_csv('genes_presence_absence_processed.csv')"
   ]
  },
  {
   "cell_type": "markdown",
   "id": "4efa6227-c8ac-4103-a159-d6a74f98f874",
   "metadata": {},
   "source": [
    "# Genes missing in non-producers but present in all strong- and mild-producers"
   ]
  },
  {
   "cell_type": "code",
   "execution_count": 130,
   "id": "ab331f6a-a65f-4e30-9d4c-fadb7b232a16",
   "metadata": {},
   "outputs": [],
   "source": [
    "df = pd.read_csv('gene_presence_absence.csv', index_col=0)\n",
    "df = df.iloc[:,13:]\n",
    "df = df[df.isna().any(axis=1)]\n",
    "df_rhamn3 = pd.read_excel('../rhamnolipids/rhamnMat.xlsx')[['strain','rhamn2cats']]\n",
    "df_rhamn3.loc[df_rhamn3.strain=='PA14','strain'] = 'UCBPP-PA14'\n",
    "\n",
    "common = list(set(df.columns).intersection(set(df_rhamn3.strain)))\n",
    "df = df[common]\n",
    "df_rhamn3 = df_rhamn3.set_index('strain').loc[common]\n",
    "\n",
    "for c in common:\n",
    "    df.loc[df[c].notnull(), c] = 1\n",
    "df = df.fillna(0).T\n",
    "\n",
    "df = pd.merge(df, df_rhamn3, left_index=True, right_index=True, how='inner')\n",
    "genes_kept = []\n",
    "for c in df.columns:\n",
    "    df2 = df[df.rhamn2cats==1]\n",
    "    df3 = df[df.rhamn2cats==0]\n",
    "    if df2[c].sum() == len(df2) and df3[c].sum() < len(df3):\n",
    "        if not c.startswith('group'):\n",
    "            genes_kept.append(c)\n",
    "df = df.loc[df.rhamn2cats==0,genes_kept].T"
   ]
  },
  {
   "cell_type": "code",
   "execution_count": 131,
   "id": "1d1acf3c-0c4e-433f-b4e2-dfc8a8947f69",
   "metadata": {},
   "outputs": [
    {
     "data": {
      "text/plain": [
       "H27930    1\n",
       "M1608     1\n",
       "M55212    1\n",
       "F5677     0\n",
       "W36662    1\n",
       "S86968    1\n",
       "W60856    1\n",
       "F63912    1\n",
       "Name: soxR_1, dtype: int64"
      ]
     },
     "execution_count": 131,
     "metadata": {},
     "output_type": "execute_result"
    }
   ],
   "source": [
    "df.loc['soxR_1']"
   ]
  },
  {
   "cell_type": "code",
   "execution_count": 132,
   "id": "1ff4b39b-13e5-4f67-9802-9ba5bd302d99",
   "metadata": {},
   "outputs": [
    {
     "data": {
      "text/plain": [
       "H27930    1\n",
       "M1608     0\n",
       "M55212    1\n",
       "F5677     1\n",
       "W36662    1\n",
       "S86968    1\n",
       "W60856    1\n",
       "F63912    1\n",
       "Name: katE, dtype: int64"
      ]
     },
     "execution_count": 132,
     "metadata": {},
     "output_type": "execute_result"
    }
   ],
   "source": [
    "df.loc['katE']"
   ]
  },
  {
   "cell_type": "code",
   "execution_count": 134,
   "id": "08135b0a-22fd-498e-b99d-a70b234d6a4d",
   "metadata": {},
   "outputs": [
    {
     "data": {
      "text/plain": [
       "gbsA          0\n",
       "lipR          0\n",
       "cynS          0\n",
       "puuP_4        0\n",
       "ttgR          0\n",
       "             ..\n",
       "elfC          0\n",
       "mltF_4        0\n",
       "garR_2        0\n",
       "yjiK_3        0\n",
       "rhamn2cats    0\n",
       "Name: M1608, Length: 142, dtype: int64"
      ]
     },
     "execution_count": 134,
     "metadata": {},
     "output_type": "execute_result"
    }
   ],
   "source": [
    "df.loc[df.M1608==0,'M1608']"
   ]
  },
  {
   "cell_type": "code",
   "execution_count": 136,
   "id": "ee387445-51f6-4946-97dc-bcaab20d2bcd",
   "metadata": {},
   "outputs": [
    {
     "name": "stdout",
     "output_type": "stream",
     "text": [
      "['gbsA', 'lipR', 'cynS', 'puuP_4', 'ttgR', 'accA1_2', 'mdrP', 'yohC_1', 'glgA', 'ybhN', 'hdfR_3', 'pxpA3_1', 'pxpB_2', 'asnO_2', 'kynB', 'catM', 'iscS_2', 'yejB_1', 'btuB_8', 'pgrR_5', 'norR_2', 'bdhA', 'pqqE', 'pqqA', 'pipB2', 'liaS', 'brnQ_1', 'hpcD_2', 'pbuE_3', 'malQ', 'treY', 'glgX', 'hrp1_2', 'clsB', 'glgB', 'glgE2', 'katE', 'malP', 'ydaD', 'pncC_2', 'ligD', 'pdeB_2', 'yadV_5', 'ybdM', 'betA_1', 'dmlR_19', 'leuO', 'ada_2', 'yjhB_1', 'nicP_8', 'pxpC_2', 'fecI_6', 'ssuD_3', 'pfeA_2', 'tam_2', 'cmtAc', 'cmtAb', 'lrp_3', 'kynU', 'aroP_2', 'fusB', 'btuB_7', 'novN', 'hcaT_1', 'yejF_1', 'efpA', 'cynR_3', 'cynT_2', 'fecR_4', 'fecI_7', 'rhaS_8', 'yidD', 'sstT', 'puuA_3', 'cmoA_1', 'norG_3', 'decR', 'garB', 'gtaB', 'rkpK_2', 'acrE', 'acrB_1', 'mmgC_3', 'menB_1', 'liuE', 'kdgR_3', 'hmgA', 'nagL_2', 'pcaK_3', 'atoE', 'phaA', 'scoB', 'scoA', 'gltC_4', 'acsA_2', 'ppiC_2', 'yhhS', 'dhaT_2', 'pqqD', 'pqqC', 'pqqB', 'adh_3', 'exaA', 'exaE', 'degU_3', 'ybiT', 'azoR1_1', 'dmlR_20', 'rbsK', 'rbsR', 'rbsC', 'araG', 'rbsB', 'zraR_1', 'cueR', 'treZ', 'yadV_4', 'sasA_11', 'gltJ_1', 'yejE_1', 'ilvG', 'nemR_1', 'hcnC_1', 'norR_1', 'copA_2', 'pqiA_1', 'rhmD', 'rhmT', 'nicP_7', 'pdxA2', 'garP', 'gbpR_3', 'yecS_2', 'curA', 'hcnB_1', 'hcnA', 'clpP_2', 'elfC', 'mltF_4', 'garR_2', 'yjiK_3', 'rhamn2cats']\n"
     ]
    }
   ],
   "source": [
    "print(list(df.loc[df.M1608==0,'M1608'].index))"
   ]
  },
  {
   "cell_type": "code",
   "execution_count": null,
   "id": "3ac5eaab-0712-4371-9191-bb9f56b042f3",
   "metadata": {},
   "outputs": [],
   "source": []
  }
 ],
 "metadata": {
  "kernelspec": {
   "display_name": "Python 3",
   "language": "python",
   "name": "python3"
  },
  "language_info": {
   "codemirror_mode": {
    "name": "ipython",
    "version": 3
   },
   "file_extension": ".py",
   "mimetype": "text/x-python",
   "name": "python",
   "nbconvert_exporter": "python",
   "pygments_lexer": "ipython3",
   "version": "3.8.5"
  }
 },
 "nbformat": 4,
 "nbformat_minor": 5
}
