{
 "cells": [
  {
   "cell_type": "code",
   "execution_count": 25,
   "id": "7ea81016-27a9-491c-9038-3ee67ad6f63a",
   "metadata": {},
   "outputs": [],
   "source": [
    "import pandas as pd\n",
    "import matplotlib.pyplot as plt\n",
    "import seaborn as sns\n",
    "from sklearn.decomposition import PCA"
   ]
  },
  {
   "cell_type": "markdown",
   "id": "91c5fc44-cc81-4bcb-ba04-b7ffae85caa4",
   "metadata": {},
   "source": [
    "# PCA"
   ]
  },
  {
   "cell_type": "code",
   "execution_count": 66,
   "id": "47a3f549-dfd0-4236-b51e-e5382e536891",
   "metadata": {},
   "outputs": [
    {
     "data": {
      "image/png": "[encoded data removed]",
      "text/plain": [
       "<Figure size 360x360 with 1 Axes>"
      ]
     },
     "metadata": {
      "needs_background": "light"
     },
     "output_type": "display_data"
    }
   ],
   "source": [
    "df = pd.read_csv('gene_presence_absence.csv', index_col=0)\n",
    "df = df.iloc[:,13:]\n",
    "df = df[df.isna().any(axis=1)]\n",
    "\n",
    "df_rhamn3 = pd.read_excel('../rhamnolipids/rhamnMat.xlsx')[['strain','rhamn3cats']]\n",
    "df_rhamn3.loc[df_rhamn3.strain=='PA14','strain'] = 'UCBPP-PA14'\n",
    "\n",
    "common = list(set(df.columns).intersection(set(df_rhamn3.strain)))\n",
    "df = df[common]\n",
    "df_rhamn3 = df_rhamn3.set_index('strain').loc[common]\n",
    "\n",
    "for c in common:\n",
    "    df.loc[df[c].notnull(), c] = 1\n",
    "df = df.fillna(0).T\n",
    "\n",
    "pca = PCA(n_components=2)\n",
    "Xscore = pca.fit_transform(df)\n",
    "\n",
    "\n",
    "df2plot = pd.DataFrame(Xscore, columns=['PCA1','PCA2'], index=common)\n",
    "df2plot = pd.merge(df2plot, df_rhamn3, left_index=True, right_index=True, how='inner')\n",
    "\n",
    "fig, ax = plt.subplots(figsize=(5,5))\n",
    "sns.scatterplot(data=df2plot, x='PCA1', y='PCA2', hue='rhamn3cats', palette=\"deep\")\n",
    "\n",
    "plt.tight_layout()\n",
    "plt.rcParams['svg.fonttype'] = 'none'\n",
    "plt.savefig('pca.svg', dpi=600)"
   ]
  },
  {
   "cell_type": "code",
   "execution_count": 37,
   "id": "8fe0d606-e300-4298-9540-7cdc87dc7249",
   "metadata": {},
   "outputs": [
    {
     "data": {
      "text/plain": [
       "array([0.19019864, 0.1156404 ])"
      ]
     },
     "execution_count": 37,
     "metadata": {},
     "output_type": "execute_result"
    }
   ],
   "source": [
    "pca.explained_variance_ratio_"
   ]
  },
  {
   "cell_type": "markdown",
   "id": "4efa6227-c8ac-4103-a159-d6a74f98f874",
   "metadata": {},
   "source": [
    "# Genes missing in non-producers but present in all strong- and mild-producers"
   ]
  },
  {
   "cell_type": "code",
   "execution_count": 71,
   "id": "ab331f6a-a65f-4e30-9d4c-fadb7b232a16",
   "metadata": {},
   "outputs": [],
   "source": [
    "df = pd.read_csv('gene_presence_absence.csv', index_col=0)\n",
    "df = df.iloc[:,13:]\n",
    "df = df[df.isna().any(axis=1)]\n",
    "\n",
    "df_rhamn3 = pd.read_excel('../rhamnolipids/rhamnMat.xlsx')[['strain','rhamn2cats']]\n",
    "df_rhamn3.loc[df_rhamn3.strain=='PA14','strain'] = 'UCBPP-PA14'\n",
    "\n",
    "common = list(set(df.columns).intersection(set(df_rhamn3.strain)))\n",
    "df = df[common]\n",
    "df_rhamn3 = df_rhamn3.set_index('strain').loc[common]\n",
    "\n",
    "for c in common:\n",
    "    df.loc[df[c].notnull(), c] = 1\n",
    "df = df.fillna(0).T\n",
    "\n",
    "df = pd.merge(df, df_rhamn3, left_index=True, right_index=True, how='inner')\n",
    "genes_kept = []\n",
    "for c in df.columns:\n",
    "    df2 = df[df.rhamn2cats==1]\n",
    "    df3 = df[df.rhamn2cats==0]\n",
    "    if df2[c].sum() == len(df2) and df3[c].sum() < len(df3):\n",
    "        # if not c.startswith('group')\n",
    "        genes_kept.append(c)\n",
    "df = df.loc[df.rhamn2cats==0,genes_kept].T"
   ]
  },
  {
   "cell_type": "code",
   "execution_count": 72,
   "id": "3f92fb23-abe8-4af0-a253-b1a422d37d00",
   "metadata": {},
   "outputs": [
    {
     "data": {
      "text/html": [
       "<div>\n",
       "<style scoped>\n",
       "    .dataframe tbody tr th:only-of-type {\n",
       "        vertical-align: middle;\n",
       "    }\n",
       "\n",
       "    .dataframe tbody tr th {\n",
       "        vertical-align: top;\n",
       "    }\n",
       "\n",
       "    .dataframe thead th {\n",
       "        text-align: right;\n",
       "    }\n",
       "</style>\n",
       "<table border=\"1\" class=\"dataframe\">\n",
       "  <thead>\n",
       "    <tr style=\"text-align: right;\">\n",
       "      <th></th>\n",
       "      <th>H27930</th>\n",
       "      <th>M1608</th>\n",
       "      <th>M55212</th>\n",
       "      <th>F5677</th>\n",
       "      <th>W36662</th>\n",
       "      <th>S86968</th>\n",
       "      <th>W60856</th>\n",
       "      <th>F63912</th>\n",
       "    </tr>\n",
       "  </thead>\n",
       "  <tbody>\n",
       "    <tr>\n",
       "      <th>phzA2</th>\n",
       "      <td>1</td>\n",
       "      <td>1</td>\n",
       "      <td>1</td>\n",
       "      <td>0</td>\n",
       "      <td>1</td>\n",
       "      <td>1</td>\n",
       "      <td>1</td>\n",
       "      <td>1</td>\n",
       "    </tr>\n",
       "    <tr>\n",
       "      <th>lgrD_1</th>\n",
       "      <td>1</td>\n",
       "      <td>1</td>\n",
       "      <td>1</td>\n",
       "      <td>1</td>\n",
       "      <td>0</td>\n",
       "      <td>1</td>\n",
       "      <td>1</td>\n",
       "      <td>1</td>\n",
       "    </tr>\n",
       "    <tr>\n",
       "      <th>mrdA</th>\n",
       "      <td>0</td>\n",
       "      <td>1</td>\n",
       "      <td>1</td>\n",
       "      <td>1</td>\n",
       "      <td>1</td>\n",
       "      <td>1</td>\n",
       "      <td>1</td>\n",
       "      <td>1</td>\n",
       "    </tr>\n",
       "    <tr>\n",
       "      <th>anoI</th>\n",
       "      <td>1</td>\n",
       "      <td>1</td>\n",
       "      <td>1</td>\n",
       "      <td>1</td>\n",
       "      <td>0</td>\n",
       "      <td>1</td>\n",
       "      <td>1</td>\n",
       "      <td>1</td>\n",
       "    </tr>\n",
       "    <tr>\n",
       "      <th>yqaA</th>\n",
       "      <td>1</td>\n",
       "      <td>1</td>\n",
       "      <td>1</td>\n",
       "      <td>1</td>\n",
       "      <td>1</td>\n",
       "      <td>0</td>\n",
       "      <td>1</td>\n",
       "      <td>1</td>\n",
       "    </tr>\n",
       "    <tr>\n",
       "      <th>...</th>\n",
       "      <td>...</td>\n",
       "      <td>...</td>\n",
       "      <td>...</td>\n",
       "      <td>...</td>\n",
       "      <td>...</td>\n",
       "      <td>...</td>\n",
       "      <td>...</td>\n",
       "      <td>...</td>\n",
       "    </tr>\n",
       "    <tr>\n",
       "      <th>elfC</th>\n",
       "      <td>1</td>\n",
       "      <td>0</td>\n",
       "      <td>1</td>\n",
       "      <td>1</td>\n",
       "      <td>1</td>\n",
       "      <td>0</td>\n",
       "      <td>1</td>\n",
       "      <td>1</td>\n",
       "    </tr>\n",
       "    <tr>\n",
       "      <th>mltF_4</th>\n",
       "      <td>1</td>\n",
       "      <td>0</td>\n",
       "      <td>1</td>\n",
       "      <td>1</td>\n",
       "      <td>1</td>\n",
       "      <td>0</td>\n",
       "      <td>1</td>\n",
       "      <td>1</td>\n",
       "    </tr>\n",
       "    <tr>\n",
       "      <th>garR_2</th>\n",
       "      <td>1</td>\n",
       "      <td>0</td>\n",
       "      <td>0</td>\n",
       "      <td>1</td>\n",
       "      <td>1</td>\n",
       "      <td>0</td>\n",
       "      <td>1</td>\n",
       "      <td>1</td>\n",
       "    </tr>\n",
       "    <tr>\n",
       "      <th>yjiK_3</th>\n",
       "      <td>1</td>\n",
       "      <td>0</td>\n",
       "      <td>1</td>\n",
       "      <td>0</td>\n",
       "      <td>1</td>\n",
       "      <td>0</td>\n",
       "      <td>1</td>\n",
       "      <td>1</td>\n",
       "    </tr>\n",
       "    <tr>\n",
       "      <th>rhamn2cats</th>\n",
       "      <td>0</td>\n",
       "      <td>0</td>\n",
       "      <td>0</td>\n",
       "      <td>0</td>\n",
       "      <td>0</td>\n",
       "      <td>0</td>\n",
       "      <td>0</td>\n",
       "      <td>0</td>\n",
       "    </tr>\n",
       "  </tbody>\n",
       "</table>\n",
       "<p>355 rows × 8 columns</p>\n",
       "</div>"
      ],
      "text/plain": [
       "            H27930  M1608  M55212  F5677  W36662  S86968  W60856  F63912\n",
       "phzA2            1      1       1      0       1       1       1       1\n",
       "lgrD_1           1      1       1      1       0       1       1       1\n",
       "mrdA             0      1       1      1       1       1       1       1\n",
       "anoI             1      1       1      1       0       1       1       1\n",
       "yqaA             1      1       1      1       1       0       1       1\n",
       "...            ...    ...     ...    ...     ...     ...     ...     ...\n",
       "elfC             1      0       1      1       1       0       1       1\n",
       "mltF_4           1      0       1      1       1       0       1       1\n",
       "garR_2           1      0       0      1       1       0       1       1\n",
       "yjiK_3           1      0       1      0       1       0       1       1\n",
       "rhamn2cats       0      0       0      0       0       0       0       0\n",
       "\n",
       "[355 rows x 8 columns]"
      ]
     },
     "execution_count": 72,
     "metadata": {},
     "output_type": "execute_result"
    }
   ],
   "source": [
    "df"
   ]
  },
  {
   "cell_type": "code",
   "execution_count": null,
   "id": "1d1acf3c-0c4e-433f-b4e2-dfc8a8947f69",
   "metadata": {},
   "outputs": [],
   "source": []
  }
 ],
 "metadata": {
  "kernelspec": {
   "display_name": "Python 3",
   "language": "python",
   "name": "python3"
  },
  "language_info": {
   "codemirror_mode": {
    "name": "ipython",
    "version": 3
   },
   "file_extension": ".py",
   "mimetype": "text/x-python",
   "name": "python",
   "nbconvert_exporter": "python",
   "pygments_lexer": "ipython3",
   "version": "3.8.5"
  }
 },
 "nbformat": 4,
 "nbformat_minor": 5
}
